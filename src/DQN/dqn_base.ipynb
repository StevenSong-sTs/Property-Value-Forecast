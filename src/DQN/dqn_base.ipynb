{
 "cells": [
  {
   "cell_type": "markdown",
   "metadata": {},
   "source": [
    "# Base DQN\n",
    "This notebook will use the classes and functions defined in dqn.py to train and evaluate base models for all 5 cities."
   ]
  },
  {
   "cell_type": "code",
   "execution_count": 10,
   "metadata": {},
   "outputs": [],
   "source": [
    "# import all from dqn\n",
    "from dqn import *"
   ]
  },
  {
   "cell_type": "code",
   "execution_count": 11,
   "metadata": {},
   "outputs": [],
   "source": [
    "# iterate over 5 cities\n",
    "cities = ['Chicago', 'Dallas', 'Los Angeles', 'New York', 'Seattle']\n",
    "# create static vars\n",
    "window_size = 3\n",
    "num_layers = 1\n",
    "pct_split = 0.8\n",
    "num_episodes = 100"
   ]
  },
  {
   "cell_type": "markdown",
   "metadata": {},
   "source": [
    "## Collect and Train for Each City\n",
    "Loop through each city, collect its data, train a baseline deep reinforcement learning model, and evaluate total reward on the test data."
   ]
  },
  {
   "cell_type": "code",
   "execution_count": 12,
   "metadata": {},
   "outputs": [
    {
     "name": "stdout",
     "output_type": "stream",
     "text": [
      "Training for Chicago over 100 episodes...\n",
      "DQN Architecture for Chicago: \n",
      "QNetwork(\n",
      "  (lstm): LSTM(83, 50, batch_first=True)\n",
      "  (linear): Linear(in_features=50, out_features=5, bias=True)\n",
      ")\n",
      "Total test reward for Chicago: -28.0\n",
      "Average test reward per step for Chicago: -0.9032258064516129\n",
      "--------------------------------------------------\n",
      "Training for Dallas over 100 episodes...\n",
      "DQN Architecture for Dallas: \n",
      "QNetwork(\n",
      "  (lstm): LSTM(83, 50, batch_first=True)\n",
      "  (linear): Linear(in_features=50, out_features=5, bias=True)\n",
      ")\n",
      "Total test reward for Dallas: -13.0\n",
      "Average test reward per step for Dallas: -0.41935483870967744\n",
      "--------------------------------------------------\n",
      "Training for Los Angeles over 100 episodes...\n",
      "DQN Architecture for Los Angeles: \n",
      "QNetwork(\n",
      "  (lstm): LSTM(83, 50, batch_first=True)\n",
      "  (linear): Linear(in_features=50, out_features=5, bias=True)\n",
      ")\n",
      "Total test reward for Los Angeles: -20.0\n",
      "Average test reward per step for Los Angeles: -0.6451612903225806\n",
      "--------------------------------------------------\n",
      "Training for New York over 100 episodes...\n",
      "DQN Architecture for New York: \n",
      "QNetwork(\n",
      "  (lstm): LSTM(83, 50, batch_first=True)\n",
      "  (linear): Linear(in_features=50, out_features=4, bias=True)\n",
      ")\n",
      "Total test reward for New York: -35.0\n",
      "Average test reward per step for New York: -1.1290322580645162\n",
      "--------------------------------------------------\n",
      "Training for Seattle over 100 episodes...\n",
      "DQN Architecture for Seattle: \n",
      "QNetwork(\n",
      "  (lstm): LSTM(83, 50, batch_first=True)\n",
      "  (linear): Linear(in_features=50, out_features=5, bias=True)\n",
      ")\n",
      "Total test reward for Seattle: -47.0\n",
      "Average test reward per step for Seattle: -1.5161290322580645\n",
      "--------------------------------------------------\n"
     ]
    }
   ],
   "source": [
    "for city_nm in cities:\n",
    "  print(f'Training for {city_nm} over {num_episodes} episodes...')\n",
    "  # grab data\n",
    "  merged = data_download(city_nm)\n",
    "  # define action space\n",
    "  merged = action_space(merged)\n",
    "  # train test split\n",
    "  train_X, test_X, train_y, test_y = train_test_split(\n",
    "    merged, pct_split, window_size)\n",
    "  # train agent\n",
    "  all_rewards, all_rewards_each_step, agent = episode_loop(train_X,\n",
    "    train_y, window_size = window_size, num_layers = num_layers, \n",
    "    num_episodes = num_episodes)\n",
    "  # print model\n",
    "  print(f'DQN Architecture for {city_nm}: ')\n",
    "  print(agent.dqn)\n",
    "  # save train results\n",
    "  artifact_save('base', city_nm, num_layers, agent.dqn, all_rewards,\n",
    "                all_rewards_each_step, window_size)\n",
    "  # test model\n",
    "  rewards, total_reward, steps = test_loop(test_X, test_y, agent.dqn, window_size)\n",
    "  # save test results\n",
    "  save_test_results('base', city_nm, num_layers, rewards, total_reward, window_size)\n",
    "  # print total test reward\n",
    "  print(f'Total test reward for {city_nm}: {total_reward}')\n",
    "  print(f'Average test reward per step for {city_nm}: {total_reward/steps}')\n",
    "  print('--------------------------------------------------')"
   ]
  }
 ],
 "metadata": {
  "kernelspec": {
   "display_name": ".venv",
   "language": "python",
   "name": "python3"
  },
  "language_info": {
   "codemirror_mode": {
    "name": "ipython",
    "version": 3
   },
   "file_extension": ".py",
   "mimetype": "text/x-python",
   "name": "python",
   "nbconvert_exporter": "python",
   "pygments_lexer": "ipython3",
   "version": "3.12.4"
  }
 },
 "nbformat": 4,
 "nbformat_minor": 2
}
