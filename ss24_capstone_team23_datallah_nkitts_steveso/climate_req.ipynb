{
 "cells": [
  {
   "cell_type": "code",
   "execution_count": 30,
   "metadata": {},
   "outputs": [],
   "source": [
    "# import dependencies\n",
    "import pandas as pd\n",
    "import os"
   ]
  },
  {
   "cell_type": "code",
   "execution_count": 31,
   "metadata": {},
   "outputs": [
    {
     "data": {
      "text/plain": [
       "['3745194.csv', '3745195.csv', '3745196.csv', '3745197.csv', '3746615.csv']"
      ]
     },
     "execution_count": 31,
     "metadata": {},
     "output_type": "execute_result"
    }
   ],
   "source": [
    "# get all climate csv's\n",
    "# source: https://www.ncei.noaa.gov/access/search/data-search/global-summary-of-the-month\n",
    "path = 'climate_data'\n",
    "file_lst = os.listdir(path)\n",
    "file_lst"
   ]
  },
  {
   "cell_type": "code",
   "execution_count": 32,
   "metadata": {},
   "outputs": [],
   "source": [
    "# iterate over files, create a list of dfs\n",
    "df_lst = []\n",
    "\n",
    "for f in file_lst:\n",
    "  temp_df = pd.read_csv(f'{path}/{f}')\n",
    "  # format df's\n",
    "  temp_df = temp_df[['STATION', 'NAME', 'LATITUDE', 'LONGITUDE', 'ELEVATION', 'DATE',\n",
    "                     'DYTS', 'PRCP', 'PSUN', 'RHAV', 'RHMN', 'RHMX', 'SNOW', 'TAVG', \n",
    "                     'TMAX', 'TMIN', 'TSUN']]\n",
    "  temp_df.rename(columns = {'STATION' : 'station', \n",
    "                            'NAME' : 'name',\n",
    "                            'LATITUDE' : 'lat',\n",
    "                            'LONGITUDE' : 'long',\n",
    "                            'ELEVATION' : 'elevation',\n",
    "                            'DATE' : 'yearmonth',\n",
    "                            'DYTS' : 'days_with_thunderstorms', \n",
    "                            'PRCP' : 'precipitation',\n",
    "                            'PSUN' : 'percent_of_possible_sunshine',\n",
    "                            'RHAV' : 'relative_humidity_avg',\n",
    "                            'RHMN' : 'relative_humidity_min',\n",
    "                            'RHMX' : 'relative_humidity_max',\n",
    "                            'SNOW' : 'snowfall',\n",
    "                            'TAVG' : 'temp_avg',\n",
    "                            'TMAX' : 'temp_max',\n",
    "                            'TMIN' : 'temp_min',\n",
    "                            'TSUN' : 'total_sunshine'}, inplace = True)\n",
    "  df_lst.append(temp_df)\n",
    "  del temp_df\n"
   ]
  },
  {
   "cell_type": "code",
   "execution_count": 36,
   "metadata": {},
   "outputs": [],
   "source": [
    "# concat df's\n",
    "climate_df = pd.concat(df_lst, ignore_index = True)\n",
    "climate_df.to_csv(f'{path}/city_weather')"
   ]
  }
 ],
 "metadata": {
  "kernelspec": {
   "display_name": "ss24-capstone-team23-datallah-nkitts-steve-akjD2-gQ-py3.12",
   "language": "python",
   "name": "python3"
  },
  "language_info": {
   "codemirror_mode": {
    "name": "ipython",
    "version": 3
   },
   "file_extension": ".py",
   "mimetype": "text/x-python",
   "name": "python",
   "nbconvert_exporter": "python",
   "pygments_lexer": "ipython3",
   "version": "3.12.4"
  }
 },
 "nbformat": 4,
 "nbformat_minor": 2
}
