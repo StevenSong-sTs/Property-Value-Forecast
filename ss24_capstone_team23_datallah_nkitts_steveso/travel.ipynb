{
  "cells": [
    {
      "cell_type": "markdown",
      "metadata": {
        "id": "view-in-github",
        "colab_type": "text"
      },
      "source": [
        "<a href=\"https://colab.research.google.com/github/StevenSongSTS/ss24-capstone-team23-datallah-nkitts-steveso/blob/main/ss24_capstone_team23_datallah_nkitts_steveso/travel.ipynb\" target=\"_parent\"><img src=\"https://colab.research.google.com/assets/colab-badge.svg\" alt=\"Open In Colab\"/></a>"
      ]
    },
    {
      "cell_type": "code",
      "source": [
        "!pip install pyspark"
      ],
      "metadata": {
        "id": "Bg2W03mauaWh",
        "outputId": "41afc53d-2f42-40a9-cb95-bdb88e735249",
        "colab": {
          "base_uri": "https://localhost:8080/"
        }
      },
      "execution_count": 2,
      "outputs": [
        {
          "output_type": "stream",
          "name": "stdout",
          "text": [
            "Collecting pyspark\n",
            "  Downloading pyspark-3.5.1.tar.gz (317.0 MB)\n",
            "\u001b[2K     \u001b[90m━━━━━━━━━━━━━━━━━━━━━━━━━━━━━━━━━━━━━━━━\u001b[0m \u001b[32m317.0/317.0 MB\u001b[0m \u001b[31m3.7 MB/s\u001b[0m eta \u001b[36m0:00:00\u001b[0m\n",
            "\u001b[?25h  Preparing metadata (setup.py) ... \u001b[?25l\u001b[?25hdone\n",
            "Requirement already satisfied: py4j==0.10.9.7 in /usr/local/lib/python3.10/dist-packages (from pyspark) (0.10.9.7)\n",
            "Building wheels for collected packages: pyspark\n",
            "  Building wheel for pyspark (setup.py) ... \u001b[?25l\u001b[?25hdone\n",
            "  Created wheel for pyspark: filename=pyspark-3.5.1-py2.py3-none-any.whl size=317488491 sha256=3233f15433b7e0ba403ad2722d3ee632fd84bb303c861489687c773a4928902e\n",
            "  Stored in directory: /root/.cache/pip/wheels/80/1d/60/2c256ed38dddce2fdd93be545214a63e02fbd8d74fb0b7f3a6\n",
            "Successfully built pyspark\n",
            "Installing collected packages: pyspark\n",
            "Successfully installed pyspark-3.5.1\n"
          ]
        }
      ]
    },
    {
      "cell_type": "code",
      "execution_count": 3,
      "metadata": {
        "id": "USSwIjaDuR85"
      },
      "outputs": [],
      "source": [
        "# import dependencies\n",
        "import pandas as pd\n",
        "import numpy as np\n",
        "from pyspark.sql import SparkSession\n",
        "from pyspark.sql.types import *\n",
        "from tqdm import tqdm\n",
        "import os\n",
        "import re"
      ]
    },
    {
      "cell_type": "code",
      "source": [
        "from google.colab import drive\n",
        "drive.mount('/content/drive')"
      ],
      "metadata": {
        "id": "RfNNl64luUOT",
        "outputId": "cdecaf51-d66e-4380-aa1a-391a1a3746b2",
        "colab": {
          "base_uri": "https://localhost:8080/"
        }
      },
      "execution_count": 4,
      "outputs": [
        {
          "output_type": "stream",
          "name": "stdout",
          "text": [
            "Mounted at /content/drive\n"
          ]
        }
      ]
    },
    {
      "cell_type": "code",
      "execution_count": 5,
      "metadata": {
        "id": "ahpBvep1uR88",
        "outputId": "fb36845a-80db-414b-86e4-960706bc9ae7",
        "colab": {
          "base_uri": "https://localhost:8080/"
        }
      },
      "outputs": [
        {
          "output_type": "execute_result",
          "data": {
            "text/plain": [
              "['2000.csv',\n",
              " '2001.csv',\n",
              " '2002.csv',\n",
              " '2003.csv',\n",
              " '2004.csv',\n",
              " '2005.csv',\n",
              " '2007.csv',\n",
              " '2008.csv',\n",
              " '2006.csv',\n",
              " '2009.csv',\n",
              " '2010.csv',\n",
              " '2012.csv',\n",
              " '2011.csv',\n",
              " '2013.csv',\n",
              " '2015.csv',\n",
              " '2014.csv',\n",
              " '2016.csv',\n",
              " '2018.csv',\n",
              " '2019.csv',\n",
              " '2017.csv',\n",
              " '2021.csv',\n",
              " '2022.csv',\n",
              " '2023.csv',\n",
              " '2024.csv',\n",
              " '2020.csv']"
            ]
          },
          "metadata": {},
          "execution_count": 5
        }
      ],
      "source": [
        "# get all travel csv's\n",
        "# source: https://www.transtats.bts.gov/DL_SelectFields.aspx?gnoyr_VQ=FMF&QO_fu146_anzr=Nv4%20Pn44vr45\n",
        "shared_drive = 'drive/MyDrive/MADS Capstone Team 23/Data'\n",
        "raw_path = f'{shared_drive}/raw/travel_data'\n",
        "trns_path = f'{shared_drive}/processed/travel_data'\n",
        "file_lst = os.listdir(raw_path)\n",
        "file_lst = [x for x in file_lst if re.search(r'[0-9]{4}', x)]\n",
        "file_lst"
      ]
    },
    {
      "cell_type": "code",
      "execution_count": 6,
      "metadata": {
        "id": "DMQdI1zzuR89"
      },
      "outputs": [],
      "source": [
        "# create spark artifacts\n",
        "spark = SparkSession.builder \\\n",
        "  .appName(\"Parse Travel Data\") \\\n",
        "  .getOrCreate()\n",
        "\n",
        "query = f'''\n",
        "  WITH dist AS (\n",
        "    SELECT DISTINCT\n",
        "      YEAR,\n",
        "      MONTH,\n",
        "      CASE\n",
        "        WHEN ORIGIN IN ('JFK', 'LGA', 'EWR', 'ISP', 'SWF', 'HPN')\n",
        "          THEN 'New York Metro'\n",
        "        WHEN ORIGIN IN ('ORD', 'MDW')\n",
        "          THEN 'Chicago Metro'\n",
        "        WHEN ORIGIN IN ('LAX', 'SNA', 'BUR', 'ONT', 'LGB', 'SBD')\n",
        "          THEN 'Los Angeles Metro'\n",
        "        WHEN ORIGIN IN ('SEA', 'LKE')\n",
        "          THEN 'Seattle Metro'\n",
        "        WHEN ORIGIN IN ('DFW', 'DAL')\n",
        "          THEN 'Dallas Metro'\n",
        "        ELSE 'OTHER ORIGIN'\n",
        "      END AS ORIGIN_METRO,\n",
        "      CASE\n",
        "        WHEN DEST IN ('JFK', 'LGA', 'EWR', 'ISP', 'SWF', 'HPN')\n",
        "          THEN 'New York Metro'\n",
        "        WHEN DEST IN ('ORD', 'MDW')\n",
        "          THEN 'Chicago Metro'\n",
        "        WHEN DEST IN ('LAX', 'SNA', 'BUR', 'ONT', 'LGB', 'SBD')\n",
        "          THEN 'Los Angeles Metro'\n",
        "        WHEN DEST IN ('SEA', 'LKE')\n",
        "          THEN 'Seattle Metro'\n",
        "        WHEN DEST IN ('DFW', 'DAL')\n",
        "          THEN 'Dallas Metro'\n",
        "        ELSE 'OTHER DEST'\n",
        "      END AS DEST_METRO,\n",
        "      ORIGIN_CITY_NAME,\n",
        "      DEST_CITY_NAME,\n",
        "      CASE\n",
        "        WHEN LEFT(DATA_SOURCE, 1) = 'D' THEN 'Dom'\n",
        "        WHEN LEFT(DATA_SOURCE, 1) = 'I' THEN 'Intl'\n",
        "      END AS INTL_OR_DOM,\n",
        "      CASE\n",
        "        WHEN CLASS IN ('F', 'L') THEN 'Passenger'\n",
        "        WHEN CLASS IN ('G', 'P') THEN 'Cargo'\n",
        "      END AS PASSNGR_OR_CARGO\n",
        "    FROM travel_data\n",
        "    WHERE ORIGIN IN ('JFK', 'LGA', 'EWR', 'ISP', 'SWF', 'HPN',\n",
        "                    'ORD', 'MDW',\n",
        "                    'LAX', 'SNA', 'BUR', 'ONT', 'LGB', 'SBD',\n",
        "                    'SEA', 'LKE',\n",
        "                    'DFW', 'DAL')\n",
        "        OR DEST IN ('JFK', 'LGA', 'EWR', 'ISP', 'SWF', 'HPN',\n",
        "                    'ORD', 'MDW',\n",
        "                    'LAX', 'SNA', 'BUR', 'ONT', 'LGB', 'SBD',\n",
        "                    'SEA', 'LKE',\n",
        "                    'DFW', 'DAL'))\n",
        "\n",
        "  , orig AS (\n",
        "    SELECT\n",
        "      YEAR,\n",
        "      MONTH,\n",
        "      ORIGIN_METRO AS METRO,\n",
        "      INTL_OR_DOM,\n",
        "      PASSNGR_OR_CARGO,\n",
        "      COUNT(DISTINCT DEST_CITY_NAME) AS UNIQ_OUTBOUND_CNT\n",
        "    FROM dist\n",
        "    WHERE ORIGIN_METRO != DEST_METRO\n",
        "    GROUP BY 1,2,3,4,5)\n",
        "\n",
        "  , dest AS (\n",
        "    SELECT\n",
        "      YEAR,\n",
        "      MONTH,\n",
        "      DEST_METRO AS METRO,\n",
        "      INTL_OR_DOM,\n",
        "      PASSNGR_OR_CARGO,\n",
        "      COUNT(DISTINCT ORIGIN_CITY_NAME) AS UNIQ_INBOUND_CNT\n",
        "    FROM dist\n",
        "    WHERE ORIGIN_METRO != DEST_METRO\n",
        "    GROUP BY 1,2,3,4,5)\n",
        "\n",
        "  , join AS (\n",
        "    SELECT\n",
        "      COALESCE(o.METRO, d.METRO) AS METRO,\n",
        "      COALESCE(o.YEAR, d.YEAR) AS YEAR,\n",
        "      COALESCE(o.MONTH, d.MONTH) AS MONTH,\n",
        "      COALESCE(o.INTL_OR_DOM, d.INTL_OR_DOM) AS INTL_OR_DOM,\n",
        "      COALESCE(o.PASSNGR_OR_CARGO, d.PASSNGR_OR_CARGO) AS PASSNGR_OR_CARGO,\n",
        "      UNIQ_OUTBOUND_CNT,\n",
        "      UNIQ_INBOUND_CNT\n",
        "    FROM orig o\n",
        "    FULL OUTER JOIN dest d\n",
        "    ON    o.METRO = d.METRO\n",
        "      AND o.YEAR = d.YEAR\n",
        "      AND o.MONTH = d.MONTH\n",
        "      AND o.INTL_OR_DOM = d.INTL_OR_DOM\n",
        "      AND o.PASSNGR_OR_CARGO = d.PASSNGR_OR_CARGO\n",
        "    )\n",
        "\n",
        "  SELECT *\n",
        "  FROM join\n",
        "  WHERE METRO NOT IN ('OTHER DEST', 'OTHER ORIGIN')\n",
        "  '''"
      ]
    },
    {
      "cell_type": "code",
      "execution_count": 7,
      "metadata": {
        "id": "MtWxPlLbuR8-"
      },
      "outputs": [],
      "source": [
        "# create empty starting df\n",
        "emp_RDD = spark.sparkContext.emptyRDD()\n",
        "columns = StructType([StructField('YEAR', IntegerType(), True),\n",
        "                      StructField('MONTH', StringType(), True),\n",
        "                      StructField('METRO', StringType(), True),\n",
        "                      StructField('INTL_OR_DOM', StringType(), True),\n",
        "                      StructField('PASSNGR_OR_CARGO', StringType(), True),\n",
        "                      StructField('UNIQ_OUTBOUND_CNT', IntegerType(), True),\n",
        "                      StructField('UNIQ_INBOUND_CNT', IntegerType(), True)])\n",
        "data = spark.createDataFrame(data = emp_RDD,\n",
        "                             schema = columns)"
      ]
    },
    {
      "cell_type": "code",
      "execution_count": 8,
      "metadata": {
        "id": "VBJYGTHAuR8_",
        "outputId": "96722789-83a6-40bc-d31e-421a7974e754",
        "colab": {
          "base_uri": "https://localhost:8080/"
        }
      },
      "outputs": [
        {
          "output_type": "stream",
          "name": "stderr",
          "text": [
            "100%|██████████| 25/25 [01:28<00:00,  3.54s/it]\n"
          ]
        }
      ],
      "source": [
        "# iterate over files and compile df\n",
        "for f in tqdm(file_lst):\n",
        "  # read file\n",
        "  csv_file = f'{raw_path}/{f}'\n",
        "  df = spark.read \\\n",
        "    .option(\"header\", \"true\") \\\n",
        "    .option(\"inferSchema\", \"true\") \\\n",
        "    .csv(csv_file)\n",
        "  # create travel data view\n",
        "  df.createOrReplaceTempView(\"travel_data\")\n",
        "  # use query\n",
        "  result = spark.sql(query)\n",
        "  # append to original empty df\n",
        "  data = data.union(result)"
      ]
    },
    {
      "cell_type": "code",
      "execution_count": 9,
      "metadata": {
        "id": "b81cTocEuR9A"
      },
      "outputs": [],
      "source": [
        "# write to csv\n",
        "data.toPandas().to_csv(f'{trns_path}/travel.csv', header = True, index = False)"
      ]
    }
  ],
  "metadata": {
    "kernelspec": {
      "display_name": "ss24-capstone-team23-datallah-nkitts-steve-akjD2-gQ-py3.12",
      "language": "python",
      "name": "python3"
    },
    "language_info": {
      "codemirror_mode": {
        "name": "ipython",
        "version": 3
      },
      "file_extension": ".py",
      "mimetype": "text/x-python",
      "name": "python",
      "nbconvert_exporter": "python",
      "pygments_lexer": "ipython3",
      "version": "3.12.4"
    },
    "colab": {
      "provenance": [],
      "include_colab_link": true
    }
  },
  "nbformat": 4,
  "nbformat_minor": 0
}