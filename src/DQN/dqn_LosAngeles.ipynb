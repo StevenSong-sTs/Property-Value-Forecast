{
 "cells": [
  {
   "cell_type": "markdown",
   "metadata": {},
   "source": [
    "# Tuned DQN (LA)\n",
    "This notebook will use the classes and functions defined in dqn.py to train and evaluate a hyperparameterized model for Los Angeles. The parameters are determined using LSTM/LSTM_LosAngeles.ipynb."
   ]
  },
  {
   "cell_type": "code",
   "execution_count": 11,
   "metadata": {},
   "outputs": [],
   "source": [
    "# import all from dqn\n",
    "from dqn import *"
   ]
  },
  {
   "cell_type": "code",
   "execution_count": 12,
   "metadata": {},
   "outputs": [],
   "source": [
    "# create static vars\n",
    "city_nm = 'Los Angeles'\n",
    "window_size = 3\n",
    "num_layers = 2\n",
    "pct_split = 0.8\n",
    "hidden_dims = [40, 80]\n",
    "num_episodes = 100"
   ]
  },
  {
   "cell_type": "markdown",
   "metadata": {},
   "source": [
    "## Create LSTM\n",
    "Use hyperparameterized architecture and implement with QLearning."
   ]
  },
  {
   "cell_type": "code",
   "execution_count": 13,
   "metadata": {},
   "outputs": [],
   "source": [
    "class TunedQNetwork(torch.nn.Module):\n",
    "  def __init__(self, input_dim, output_dim, hidden_dims, num_layers):\n",
    "    super().__init__()\n",
    "    # maintain num_layers implementation as is for rest of functions and classes\n",
    "    #  current implementation likely not best practice\n",
    "    self.lstm1 = nn.LSTM(input_size = input_dim, hidden_size = hidden_dims[0], \n",
    "                         num_layers = int(num_layers/num_layers), batch_first = True, \n",
    "                         bias=True)\n",
    "    self.lstm2 = nn.LSTM(input_size = hidden_dims[0], hidden_size = hidden_dims[1], \n",
    "                         num_layers = int(num_layers/num_layers), batch_first = True, \n",
    "                         bias=True)\n",
    "    self.dropout = nn.Dropout(0.5)\n",
    "    self.linear = nn.Linear(in_features = hidden_dims[1], out_features = output_dim)\n",
    "    self.l2_reg = nn.Parameter(torch.tensor(0.001))\n",
    "\n",
    "  def forward(self, state):\n",
    "    x, _ = self.lstm1(state)\n",
    "    x, _ = self.lstm2(x)\n",
    "    x = self.dropout(x)\n",
    "    x = x[:, -1, :]\n",
    "    x = self.linear(x)\n",
    "    return x"
   ]
  },
  {
   "cell_type": "markdown",
   "metadata": {},
   "source": [
    "## Preprocess Data\n",
    "Use determined feature importance to select features and split data."
   ]
  },
  {
   "cell_type": "code",
   "execution_count": 14,
   "metadata": {},
   "outputs": [],
   "source": [
    "# Load the selected features\n",
    "file_city_nm = 'LosAngeles'\n",
    "with open(f'../LSTM/Results/{file_city_nm}/feature_selection.json', 'r') as file:\n",
    "  features = json.load(file)\n",
    "# grab data\n",
    "merged = data_download(city_nm, features = features)\n",
    "# define action space\n",
    "merged = action_space(merged)\n",
    "# train test split\n",
    "train_X, test_X, train_y, test_y = train_test_split(\n",
    "  merged, pct_split, window_size)"
   ]
  },
  {
   "cell_type": "markdown",
   "metadata": {},
   "source": [
    "## Use Subsetted Data to Train\n",
    "Use the best found features and architecture to determine reward."
   ]
  },
  {
   "cell_type": "code",
   "execution_count": 15,
   "metadata": {},
   "outputs": [
    {
     "name": "stdout",
     "output_type": "stream",
     "text": [
      "Training for Los Angeles over 100 episodes...\n",
      "Tuned DQN Architecture for Los Angeles: \n",
      "TunedQNetwork(\n",
      "  (lstm1): LSTM(5, 40, batch_first=True)\n",
      "  (lstm2): LSTM(40, 80, batch_first=True)\n",
      "  (dropout): Dropout(p=0.5, inplace=False)\n",
      "  (linear): Linear(in_features=80, out_features=5, bias=True)\n",
      ")\n",
      "Total test reward for Los Angeles: -30.0\n",
      "Average test reward per step for Los Angeles: -0.967741935483871\n"
     ]
    }
   ],
   "source": [
    "print(f'Training for {city_nm} over {num_episodes} episodes...')\n",
    "# train agent\n",
    "all_rewards, all_rewards_each_step, agent = episode_loop(train_X,\n",
    "  train_y, window_size = window_size, num_layers = 2, hidden_dim = hidden_dims,\n",
    "  num_episodes = num_episodes, QNetwork = TunedQNetwork)\n",
    "# print model\n",
    "print(f'Tuned DQN Architecture for {city_nm}: ')\n",
    "print(agent.dqn)\n",
    "# save train results\n",
    "model_type = 'tuned'\n",
    "artifact_save(model_type, file_city_nm, num_layers, agent.dqn, all_rewards,\n",
    "              all_rewards_each_step, window_size)\n",
    "# test model\n",
    "rewards, total_reward, steps = test_loop(test_X, test_y, agent.dqn, window_size)\n",
    "# save test results\n",
    "save_test_results(model_type, file_city_nm, num_layers, rewards, total_reward, window_size)\n",
    "# print total test reward\n",
    "print(f'Total test reward for {city_nm}: {total_reward}')\n",
    "print(f'Average test reward per step for {city_nm}: {total_reward/steps}')"
   ]
  }
 ],
 "metadata": {
  "kernelspec": {
   "display_name": ".venv",
   "language": "python",
   "name": "python3"
  },
  "language_info": {
   "codemirror_mode": {
    "name": "ipython",
    "version": 3
   },
   "file_extension": ".py",
   "mimetype": "text/x-python",
   "name": "python",
   "nbconvert_exporter": "python",
   "pygments_lexer": "ipython3",
   "version": "3.12.4"
  }
 },
 "nbformat": 4,
 "nbformat_minor": 2
}
