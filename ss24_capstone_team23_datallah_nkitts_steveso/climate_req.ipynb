{
  "cells": [
    {
      "cell_type": "markdown",
      "metadata": {
        "id": "view-in-github",
        "colab_type": "text"
      },
      "source": [
        "<a href=\"https://colab.research.google.com/github/StevenSongSTS/ss24-capstone-team23-datallah-nkitts-steveso/blob/main/ss24_capstone_team23_datallah_nkitts_steveso/climate_req.ipynb\" target=\"_parent\"><img src=\"https://colab.research.google.com/assets/colab-badge.svg\" alt=\"Open In Colab\"/></a>"
      ]
    },
    {
      "cell_type": "code",
      "execution_count": 1,
      "metadata": {
        "id": "tT5Ffjm3zamO"
      },
      "outputs": [],
      "source": [
        "# import dependencies\n",
        "import pandas as pd\n",
        "import os"
      ]
    },
    {
      "cell_type": "code",
      "source": [
        "from google.colab import drive\n",
        "drive.mount('/content/drive')"
      ],
      "metadata": {
        "id": "g_oQ5Mndzdh2",
        "outputId": "6447b9d7-ade9-42bd-c15f-dc0f496509e0",
        "colab": {
          "base_uri": "https://localhost:8080/"
        }
      },
      "execution_count": 2,
      "outputs": [
        {
          "output_type": "stream",
          "name": "stdout",
          "text": [
            "Mounted at /content/drive\n"
          ]
        }
      ]
    },
    {
      "cell_type": "code",
      "execution_count": 3,
      "metadata": {
        "id": "v33WqvXFzamR",
        "outputId": "ea42f9ae-313f-40ea-c55c-85bc11055c38",
        "colab": {
          "base_uri": "https://localhost:8080/"
        }
      },
      "outputs": [
        {
          "output_type": "execute_result",
          "data": {
            "text/plain": [
              "['3745194.csv', '3745195.csv', '3745196.csv', '3745197.csv', '3746615.csv']"
            ]
          },
          "metadata": {},
          "execution_count": 3
        }
      ],
      "source": [
        "# get all climate csv's\n",
        "# source: https://www.ncei.noaa.gov/access/search/data-search/global-summary-of-the-month\n",
        "shared_drive = 'drive/MyDrive/MADS Capstone Team 23/Data'\n",
        "raw_path = f'{shared_drive}/raw/climate_data'\n",
        "trns_path = f'{shared_drive}/processed/climate_data'\n",
        "file_lst = os.listdir(raw_path)\n",
        "file_lst"
      ]
    },
    {
      "cell_type": "code",
      "execution_count": 4,
      "metadata": {
        "id": "GMT7yaM9zamS",
        "outputId": "c7eb15bb-541d-42e6-f5e5-62d5d9619399",
        "colab": {
          "base_uri": "https://localhost:8080/"
        }
      },
      "outputs": [
        {
          "output_type": "stream",
          "name": "stderr",
          "text": [
            "<ipython-input-4-cc14b6fc8641>:10: SettingWithCopyWarning: \n",
            "A value is trying to be set on a copy of a slice from a DataFrame\n",
            "\n",
            "See the caveats in the documentation: https://pandas.pydata.org/pandas-docs/stable/user_guide/indexing.html#returning-a-view-versus-a-copy\n",
            "  temp_df.rename(columns = {'STATION' : 'station',\n"
          ]
        }
      ],
      "source": [
        "# iterate over files, create a list of dfs\n",
        "df_lst = []\n",
        "\n",
        "for f in file_lst:\n",
        "  temp_df = pd.read_csv(f'{raw_path}/{f}')\n",
        "  # format df's\n",
        "  temp_df = temp_df[['STATION', 'NAME', 'LATITUDE', 'LONGITUDE', 'ELEVATION', 'DATE',\n",
        "                     'DYTS', 'PRCP', 'PSUN', 'RHAV', 'RHMN', 'RHMX', 'SNOW', 'TAVG',\n",
        "                     'TMAX', 'TMIN', 'TSUN']]\n",
        "  temp_df.rename(columns = {'STATION' : 'station',\n",
        "                            'NAME' : 'name',\n",
        "                            'LATITUDE' : 'lat',\n",
        "                            'LONGITUDE' : 'long',\n",
        "                            'ELEVATION' : 'elevation',\n",
        "                            'DATE' : 'yearmonth',\n",
        "                            'DYTS' : 'days_with_thunderstorms',\n",
        "                            'PRCP' : 'precipitation',\n",
        "                            'PSUN' : 'percent_of_possible_sunshine',\n",
        "                            'RHAV' : 'relative_humidity_avg',\n",
        "                            'RHMN' : 'relative_humidity_min',\n",
        "                            'RHMX' : 'relative_humidity_max',\n",
        "                            'SNOW' : 'snowfall',\n",
        "                            'TAVG' : 'temp_avg',\n",
        "                            'TMAX' : 'temp_max',\n",
        "                            'TMIN' : 'temp_min',\n",
        "                            'TSUN' : 'total_sunshine'}, inplace = True)\n",
        "  df_lst.append(temp_df)\n",
        "  del temp_df\n"
      ]
    },
    {
      "cell_type": "code",
      "execution_count": 5,
      "metadata": {
        "id": "EtM_DtsBzamT"
      },
      "outputs": [],
      "source": [
        "# concat df's\n",
        "climate_df = pd.concat(df_lst, ignore_index = True)\n",
        "climate_df.to_csv(f'{trns_path}/city_weather')"
      ]
    }
  ],
  "metadata": {
    "kernelspec": {
      "display_name": "ss24-capstone-team23-datallah-nkitts-steve-akjD2-gQ-py3.12",
      "language": "python",
      "name": "python3"
    },
    "language_info": {
      "codemirror_mode": {
        "name": "ipython",
        "version": 3
      },
      "file_extension": ".py",
      "mimetype": "text/x-python",
      "name": "python",
      "nbconvert_exporter": "python",
      "pygments_lexer": "ipython3",
      "version": "3.12.4"
    },
    "colab": {
      "provenance": [],
      "include_colab_link": true
    }
  },
  "nbformat": 4,
  "nbformat_minor": 0
}